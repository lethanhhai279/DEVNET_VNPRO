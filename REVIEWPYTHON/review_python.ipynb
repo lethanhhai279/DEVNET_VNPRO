{
 "cells": [
  {
   "cell_type": "code",
   "execution_count": 11,
   "metadata": {},
   "outputs": [
    {
     "name": "stdout",
     "output_type": "stream",
     "text": [
      "<class 'float'>\n",
      "<class 'bool'>\n",
      "<class 'bytes'>\n",
      "<class 'str'>\n",
      "<class 'int'>\n"
     ]
    }
   ],
   "source": [
    "## Kiểu dữ liệu ##\n",
    "print(type(1.4))\n",
    "print(type(True))\n",
    "print(type(b\"hello\"))\n",
    "print(type(\"hello\"))\n",
    "print(type(10))"
   ]
  },
  {
   "cell_type": "code",
   "execution_count": 19,
   "metadata": {},
   "outputs": [
    {
     "name": "stdout",
     "output_type": "stream",
     "text": [
      "45\n",
      "<class 'str'>\n",
      "<class 'int'>\n"
     ]
    }
   ],
   "source": [
    "a = \"4\"\n",
    "b = str(5)\n",
    "c = int(\"10\")\n",
    "print(a+b)\n",
    "print(type(a+b))\n",
    "print(type(c))"
   ]
  },
  {
   "cell_type": "code",
   "execution_count": 41,
   "metadata": {},
   "outputs": [
    {
     "name": "stdout",
     "output_type": "stream",
     "text": [
      "['', 'i', 'a', 'u']\n"
     ]
    }
   ],
   "source": [
    "a = \"hihahu\"\n",
    "b = a.split(\"h\")\n",
    "print(b)"
   ]
  },
  {
   "cell_type": "code",
   "execution_count": 47,
   "metadata": {},
   "outputs": [
    {
     "name": "stdout",
     "output_type": "stream",
     "text": [
      "<class 'int'>\n"
     ]
    }
   ],
   "source": [
    "i = 13 % 4\n",
    "print(type(i))"
   ]
  },
  {
   "cell_type": "code",
   "execution_count": 12,
   "metadata": {},
   "outputs": [
    {
     "name": "stdout",
     "output_type": "stream",
     "text": [
      "<class 'str'>\n"
     ]
    }
   ],
   "source": [
    "ip = \"192.168.1.1\"\n",
    "print(type(ip))"
   ]
  },
  {
   "cell_type": "code",
   "execution_count": 56,
   "metadata": {},
   "outputs": [],
   "source": [
    "# a = input('Mời bạn vào xơi: ')\n",
    "# print(TimeoutError(3),a)\n"
   ]
  },
  {
   "cell_type": "code",
   "execution_count": 64,
   "metadata": {},
   "outputs": [
    {
     "name": "stdout",
     "output_type": "stream",
     "text": [
      "số chẵn là 10\n"
     ]
    }
   ],
   "source": [
    "## if else\n",
    "a = int(input(\"Nhập số: \"))\n",
    "\n",
    "if a%2 == 0:\n",
    "    print(\"số chẵn là\",a)\n",
    "elif a%2 != 0:\n",
    "    print(\"số lẽ: \",a)"
   ]
  },
  {
   "cell_type": "code",
   "execution_count": 72,
   "metadata": {},
   "outputs": [
    {
     "name": "stdout",
     "output_type": "stream",
     "text": [
      "Có nghiệm kép\n"
     ]
    }
   ],
   "source": [
    "## Hàm ##\n",
    "def tinhtong(a,b,c):\n",
    "    delta = (b**2) - 4*a*c\n",
    "    if delta > 0:\n",
    "        print(\"Có 2 nghiệm\")\n",
    "    elif delta < 0:\n",
    "        print(\"Vô nghiệm\")\n",
    "    else:\n",
    "        print(\"Có nghiệm kép\")\n",
    "    # return delta\n",
    "tinhtong(1,2,1)"
   ]
  },
  {
   "cell_type": "code",
   "execution_count": 102,
   "metadata": {},
   "outputs": [
    {
     "name": "stdout",
     "output_type": "stream",
     "text": [
      "a\n",
      "1\n",
      "18.2\n",
      "True\n"
     ]
    }
   ],
   "source": [
    "## Collection ##\n",
    "l = [\"a\", 1, 18.2, True]\n",
    "for i in l:\n",
    "    print(i)\n",
    "# l.remove(l[-2])\n",
    "# l.append(\"b\")\n",
    "# print(l)"
   ]
  },
  {
   "cell_type": "code",
   "execution_count": 103,
   "metadata": {},
   "outputs": [
    {
     "name": "stdout",
     "output_type": "stream",
     "text": [
      "a\n",
      "1\n",
      "18.2\n",
      "True\n",
      "b\n",
      "v\n",
      "c\n",
      "a\n"
     ]
    }
   ],
   "source": [
    "## Tuple\n",
    "t = (\"a\", 1, 18.2, True)\n",
    "t1 = (\"b\",\"v\",\"c\",\"a\")\n",
    "# print(t[0:])\n",
    "tt = t + t1\n",
    "for i in tt:\n",
    "    print(i)"
   ]
  },
  {
   "cell_type": "code",
   "execution_count": 105,
   "metadata": {},
   "outputs": [
    {
     "name": "stdout",
     "output_type": "stream",
     "text": [
      "key1 value1\n",
      "key2 value2\n",
      "key3 value3\n"
     ]
    }
   ],
   "source": [
    "### Dict\n",
    "d = {\n",
    "    \"key1\":\"value1\", \n",
    "    \"key2\":\"value2\", \n",
    "    \"key3\":\"value3\"\n",
    "}\n",
    "for i in d:\n",
    "    print(i, d[i])\n",
    "router ={\n",
    "    \"device_type\":\"cisco_ios\",\n",
    "    \"host\":\"10.215.26.234\",\n",
    "    \"username\":\"vnpro\",\n",
    "    \"password\":\"vnpro@123\",\n",
    "    \"secret\":\"vnpro@321\"\n",
    "}\n",
    "# a = [d, router]"
   ]
  },
  {
   "cell_type": "code",
   "execution_count": 101,
   "metadata": {},
   "outputs": [
    {
     "name": "stdout",
     "output_type": "stream",
     "text": [
      "1\n",
      "2\n",
      "3\n",
      "4\n",
      "5\n",
      "6\n",
      "7\n",
      "8\n",
      "9\n"
     ]
    }
   ],
   "source": [
    "## for, while\n",
    "i = 1\n",
    "while i <10:\n",
    "    print(i)\n",
    "    i+=1\n",
    "\n",
    "\n",
    "\n"
   ]
  },
  {
   "cell_type": "code",
   "execution_count": 108,
   "metadata": {},
   "outputs": [
    {
     "name": "stdout",
     "output_type": "stream",
     "text": [
      "2\n",
      "3\n",
      "4\n",
      "5\n",
      "6\n",
      "7\n",
      "8\n",
      "9\n",
      "10\n",
      "11\n",
      "12\n",
      "13\n",
      "14\n",
      "15\n",
      "16\n",
      "17\n",
      "18\n",
      "19\n"
     ]
    }
   ],
   "source": [
    "# for i in range(10):\n",
    "    # print(i)\n",
    "for j in range(2,20,2):\n",
    "    print(j)"
   ]
  }
 ],
 "metadata": {
  "interpreter": {
   "hash": "a42ccb73e7d9bfdf27e036f1d2b8b681e55fc0743cc5586bc2474d4a60f4b886"
  },
  "kernelspec": {
   "display_name": "Python 3.10.4 64-bit",
   "language": "python",
   "name": "python3"
  },
  "language_info": {
   "codemirror_mode": {
    "name": "ipython",
    "version": 3
   },
   "file_extension": ".py",
   "mimetype": "text/x-python",
   "name": "python",
   "nbconvert_exporter": "python",
   "pygments_lexer": "ipython3",
   "version": "3.10.4"
  },
  "orig_nbformat": 4
 },
 "nbformat": 4,
 "nbformat_minor": 2
}
